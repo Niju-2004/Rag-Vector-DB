{
 "cells": [
  {
   "cell_type": "code",
   "execution_count": 5,
   "id": "a025918d-94c1-435f-89b7-ae390be84c50",
   "metadata": {
    "scrolled": true
   },
   "outputs": [
    {
     "name": "stdout",
     "output_type": "stream",
     "text": [
      "Loading content and index files...\n",
      "Files loaded successfully!\n",
      "\n",
      "--- Veterinary Chatbot ---\n",
      "Ask anything about veterinary information. Type 'Exit' to quit.\n"
     ]
    },
    {
     "name": "stdin",
     "output_type": "stream",
     "text": [
      "\n",
      "Your question:  my goat is suffering from constipation\n"
     ]
    },
    {
     "name": "stdout",
     "output_type": "stream",
     "text": [
      "\n",
      "--- Top Matching Results ---\n",
      "\n",
      "Result 1:\n",
      "\n",
      "--- Retrieved Information ---\n",
      "Disease Name: Constipation\n",
      "Symptoms: goat Lack of defecation hard\n",
      "Remedies: pelleted dung Fever heat stress dehydration neem leaves 100\n",
      "Ingredients: gm castor oil, raw lin seed oil 500ml turmeric haldi 100 gm Enema can be given (boil 10 litres of water after adding 100 gm neem leaves and cooled and administer through rectum of large animals 100 gm neem leaves and cooled and administer through rectum of large animals).\n",
      "Avoid early stage pregnant animals. Laxatives like castor oil, raw lin seed oil (500ml) can be given for 1-2 days according\n",
      "to species and body weight of animal. Given as drench for 2-3 days or as required. A decoction prepared with 100 gm of haldi (turmeric rhizome) in 1 litre of water may\n",
      "be given once daily for 1-3 days to large animals\n",
      "-----------------------------\n",
      "-----------------------------\n"
     ]
    },
    {
     "name": "stdin",
     "output_type": "stream",
     "text": [
      "\n",
      "Your question:  my goat is suffering from diaherrea\n"
     ]
    },
    {
     "name": "stdout",
     "output_type": "stream",
     "text": [
      "\n",
      "--- Top Matching Results ---\n",
      "\n",
      "Result 1:\n",
      "\n",
      "--- Retrieved Information ---\n",
      "Disease Name: Diarrhea\n",
      "Symptoms: goat Watery dung Indigestion intake\n",
      "Remedies: of spoiled feed eating toxic plants one handful each\n",
      "Ingredients: of tender leaves of pomegranate Anaar neem leaves tender leaves of guava dried ginger 50 gm jaggery 100 gm Grind one handful each of tender leaves of pomegranate\n",
      "of neem, tender leaves of guava along with dried ginger 50 gm jaggery 100 gm and make 3 bolus and administer one bolus at a time for 3 times until diarrhea gets cured\n",
      "-----------------------------\n",
      "-----------------------------\n"
     ]
    },
    {
     "name": "stdin",
     "output_type": "stream",
     "text": [
      "\n",
      "Your question:  exit\n"
     ]
    },
    {
     "name": "stdout",
     "output_type": "stream",
     "text": [
      "Exiting the program. Goodbye!\n"
     ]
    }
   ],
   "source": [
    "import os\n",
    "import hnswlib\n",
    "import numpy as np\n",
    "from sentence_transformers import SentenceTransformer\n",
    "import json\n",
    "\n",
    "def load_hnswlib_index(index_path, dim):\n",
    "    \"\"\"Load HNSWlib index from the given path.\"\"\"\n",
    "    try:\n",
    "        index = hnswlib.Index(space='cosine', dim=dim)\n",
    "        index.load_index(index_path)\n",
    "        return index\n",
    "    except Exception as e:\n",
    "        raise RuntimeError(f\"Error loading HNSWlib index: {e}\")\n",
    "\n",
    "def load_content(json_path):\n",
    "    \"\"\"Load content from a JSON file.\"\"\"\n",
    "    try:\n",
    "        with open(json_path, 'r', encoding='utf-8') as f:\n",
    "            return json.load(f)\n",
    "    except Exception as e:\n",
    "        raise RuntimeError(f\"Error loading content JSON: {e}\")\n",
    "\n",
    "def extract_sections(retrieved_text):\n",
    "    \"\"\"Extract structured sections from the retrieved text.\"\"\"\n",
    "    try:\n",
    "        lines = retrieved_text.split(\" \")\n",
    "        disease_name = lines[0] if len(lines) > 0 else \"Unknown Disease\"\n",
    "        symptoms = \" \".join(lines[1:6])  \n",
    "        remedies = \" \".join(lines[6:15])  \n",
    "        ingredients = \" \".join(lines[15:])  \n",
    "        return disease_name, symptoms, remedies, ingredients\n",
    "    except Exception as e:\n",
    "        return \"Unknown Disease\", \"Error extracting symptoms\", \"Error extracting remedies\", \"Error extracting ingredients\"\n",
    "\n",
    "def print_formatted_info(disease_name, symptoms, remedies, ingredients):\n",
    "    \"\"\"Display extracted information in a structured format.\"\"\"\n",
    "    \"\"\"print(\"\\n--- Retrieved Information ---\")\"\"\"\n",
    "    print(f\"Disease Name: {disease_name}\")\n",
    "    print(f\"Symptoms: {symptoms}\")\n",
    "    print(f\"Remedies: {remedies}\")\n",
    "    print(f\"Ingredients: {ingredients}\")\n",
    "    print(\"-----------------------------\")\n",
    "\n",
    "def query_system(query, model, index, content, top_k=1):\n",
    "    \"\"\"Retrieve and display relevant information for the user's query.\"\"\"\n",
    "    try:\n",
    "        query_embedding = model.encode([query])\n",
    "        labels, distances = index.knn_query(query_embedding, k=top_k)\n",
    "\n",
    "        \"\"\"print(\"\\n--- Top Matching Results ---\")\"\"\"\n",
    "        for i, label in enumerate(labels[0]):\n",
    "            retrieved_text = content.get(str(label), \"No relevant context found.\")\n",
    "            disease_name, symptoms, remedies, ingredients = extract_sections(retrieved_text)\n",
    "            print(f\"\\nResult {i+1}:\")\n",
    "            print_formatted_info(disease_name, symptoms, remedies, ingredients)\n",
    "        print(\"-----------------------------\")\n",
    "    except Exception as e:\n",
    "        print(f\"Error processing query: {e}\")\n",
    "\n",
    "def main():\n",
    "    \"\"\"Main function to drive the chatbot system.\"\"\"\n",
    "    model = SentenceTransformer('sentence-transformers/all-MiniLM-L6-v2')\n",
    "\n",
    "    # File paths\n",
    "    content_path = r\"D:\\Rag-Vector-DB (1)\\Rag-Vector-DB\\DB_Storage\\content.json\"\n",
    "    index_path = r\"D:\\Rag-Vector-DB (1)\\Rag-Vector-DB\\DB_Storage\\vectors_hnswlib.bin\"\n",
    "    dim = 384  # Dimensionality of the embeddings\n",
    "\n",
    "    try:\n",
    "        # Load the content and index\n",
    "        print(\"Loading content and index files...\")\n",
    "        content = load_content(content_path)\n",
    "        index = load_hnswlib_index(index_path, dim)\n",
    "        print(\"Files loaded successfully!\")\n",
    "    except RuntimeError as e:\n",
    "        print(e)\n",
    "        return\n",
    "\n",
    "    print(\"\\n--- Veterinary Chatbot ---\")\n",
    "    print(\"Ask anything about veterinary information. Type 'Exit' to quit.\")\n",
    "    \n",
    "    while True:\n",
    "        query = input(\"\\nAsk something: \").strip()\n",
    "        if query.lower() == \"exit\":\n",
    "            print(\"Exiting the chatbot. Goodbye!\")\n",
    "            break\n",
    "        elif query:\n",
    "            query_system(query, model, index, content)\n",
    "        else:\n",
    "            print(\"Query cannot be empty. Please try again.\")\n",
    "\n",
    "if __name__ == \"__main__\":\n",
    "    main()\n"
   ]
  },
  {
   "cell_type": "code",
   "execution_count": null,
   "id": "7f239d2e-20b7-4491-a0bf-195e81612cdd",
   "metadata": {},
   "outputs": [],
   "source": []
  }
 ],
 "metadata": {
  "kernelspec": {
   "display_name": "Python 3 (ipykernel)",
   "language": "python",
   "name": "python3"
  },
  "language_info": {
   "codemirror_mode": {
    "name": "ipython",
    "version": 3
   },
   "file_extension": ".py",
   "mimetype": "text/x-python",
   "name": "python",
   "nbconvert_exporter": "python",
   "pygments_lexer": "ipython3",
   "version": "3.11.7"
  }
 },
 "nbformat": 4,
 "nbformat_minor": 5
}
