{
 "cells": [
  {
   "cell_type": "code",
   "execution_count": 2,
   "id": "1689b6e9-c8f1-4215-a3ac-b74f9ad3969a",
   "metadata": {},
   "outputs": [
    {
     "name": "stdout",
     "output_type": "stream",
     "text": [
      "HNSWlib index saved to C:\\Users\\mniju\\rag\\Rag-Vector-DB\\DB_Storage\\vectors_hnswlib.bin\n",
      "Content data saved to C:\\Users\\mniju\\rag\\Rag-Vector-DB\\DB_Storage\\content.json\n",
      "Process completed successfully!\n"
     ]
    }
   ],
   "source": [
    "import os\n",
    "import pandas as pd\n",
    "import hnswlib\n",
    "import numpy as np\n",
    "import json\n",
    "from sentence_transformers import SentenceTransformer\n",
    "\n",
    "def read_excel(file_path):\n",
    "    df = pd.read_excel(file_path)\n",
    "    text_data = []\n",
    "    for index, row in df.iterrows():\n",
    "        row_data = \" \".join([str(item) for item in row if not pd.isnull(item)])\n",
    "        text_data.append(row_data)\n",
    "    return text_data\n",
    "\n",
    "def text_to_vector(text_data, model):\n",
    "    embeddings = model.encode(text_data, convert_to_tensor=False)\n",
    "    return np.array(embeddings), text_data\n",
    "\n",
    "def store_in_hnswlib(vectors, text_chunks, output_index, content_path, ef_construction=200, M=16):\n",
    "    dim = vectors.shape[1]\n",
    "    \n",
    "    # Initialize the HNSW index\n",
    "    index = hnswlib.Index(space='l2', dim=dim)\n",
    "    index.init_index(max_elements=len(vectors), ef_construction=ef_construction, M=M)\n",
    "    \n",
    "    # Add vectors to the index\n",
    "    index.add_items(vectors, np.arange(len(vectors)))\n",
    "    \n",
    "    # Save the HNSW index\n",
    "    index.save_index(output_index)\n",
    "    print(f\"HNSWlib index saved to {output_index}\")\n",
    "    \n",
    "    # Save the content data to a JSON file\n",
    "    content_data = {str(i): text_chunks[i] for i in range(len(text_chunks))}\n",
    "    with open(content_path, 'w') as f:\n",
    "        json.dump(content_data, f, indent=4)\n",
    "    print(f\"Content data saved to {content_path}\")\n",
    "\n",
    "if __name__ == \"__main__\":\n",
    "    excel_file = r\"C:\\Users\\mniju\\rag\\Rag-Vector-DB\\assets\\RPP_Dataset.xlsx\"\n",
    "    output_index = r\"C:\\Users\\mniju\\rag\\Rag-Vector-DB\\DB_Storage\\vectors_hnswlib.bin\"\n",
    "    content_path = r\"C:\\Users\\mniju\\rag\\Rag-Vector-DB\\DB_Storage\\content.json\"\n",
    "\n",
    "    # Load the SentenceTransformer model\n",
    "    model = SentenceTransformer('all-MiniLM-L6-v2')\n",
    "    \n",
    "    # Read text data from the Excel file\n",
    "    excel_text_data = read_excel(excel_file)\n",
    "    \n",
    "    # Convert text data to vectors (embeddings)\n",
    "    vectors, text_chunks = text_to_vector(excel_text_data, model)\n",
    "    \n",
    "    # Store vectors and content data in HNSWlib index and JSON file\n",
    "    store_in_hnswlib(vectors, text_chunks, output_index, content_path)\n",
    "\n",
    "    print(\"Process completed successfully!\")\n"
   ]
  },
  {
   "cell_type": "code",
   "execution_count": null,
   "id": "b8d663f0-6df1-47bc-bac5-91ed525d0bb8",
   "metadata": {},
   "outputs": [],
   "source": []
  }
 ],
 "metadata": {
  "kernelspec": {
   "display_name": "Python 3 (ipykernel)",
   "language": "python",
   "name": "python3"
  },
  "language_info": {
   "codemirror_mode": {
    "name": "ipython",
    "version": 3
   },
   "file_extension": ".py",
   "mimetype": "text/x-python",
   "name": "python",
   "nbconvert_exporter": "python",
   "pygments_lexer": "ipython3",
   "version": "3.11.7"
  }
 },
 "nbformat": 4,
 "nbformat_minor": 5
}
